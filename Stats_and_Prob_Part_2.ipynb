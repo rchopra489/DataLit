{
  "nbformat": 4,
  "nbformat_minor": 0,
  "metadata": {
    "colab": {
      "name": "Stats and Prob. Part 2",
      "version": "0.3.2",
      "provenance": []
    },
    "kernelspec": {
      "name": "python3",
      "display_name": "Python 3"
    }
  },
  "cells": [
    {
      "metadata": {
        "id": "nysbx_O8h19w",
        "colab_type": "code",
        "colab": {}
      },
      "cell_type": "code",
      "source": [
        "import pandas as pd\n",
        "from matplotlib import pyplot as plt\n",
        "import seaborn as sns\n",
        "from statistics import mean, stdev"
      ],
      "execution_count": 0,
      "outputs": []
    },
    {
      "metadata": {
        "id": "wBJfJEbGpExi",
        "colab_type": "code",
        "outputId": "e74928a1-5ecc-47bf-9fc6-5698a3f77cb5",
        "colab": {
          "base_uri": "https://localhost:8080/",
          "height": 359
        }
      },
      "cell_type": "code",
      "source": [
        "df = pd.read_csv('formatted_flights.csv')\n",
        "df = df.drop('Unnamed: 0', axis=1)\n",
        "df.head(10)"
      ],
      "execution_count": 0,
      "outputs": [
        {
          "output_type": "execute_result",
          "data": {
            "text/html": [
              "<div>\n",
              "<style scoped>\n",
              "    .dataframe tbody tr th:only-of-type {\n",
              "        vertical-align: middle;\n",
              "    }\n",
              "\n",
              "    .dataframe tbody tr th {\n",
              "        vertical-align: top;\n",
              "    }\n",
              "\n",
              "    .dataframe thead th {\n",
              "        text-align: right;\n",
              "    }\n",
              "</style>\n",
              "<table border=\"1\" class=\"dataframe\">\n",
              "  <thead>\n",
              "    <tr style=\"text-align: right;\">\n",
              "      <th></th>\n",
              "      <th>arr_delay</th>\n",
              "      <th>name</th>\n",
              "    </tr>\n",
              "  </thead>\n",
              "  <tbody>\n",
              "    <tr>\n",
              "      <th>0</th>\n",
              "      <td>11.0</td>\n",
              "      <td>United Air Lines Inc.</td>\n",
              "    </tr>\n",
              "    <tr>\n",
              "      <th>1</th>\n",
              "      <td>20.0</td>\n",
              "      <td>United Air Lines Inc.</td>\n",
              "    </tr>\n",
              "    <tr>\n",
              "      <th>2</th>\n",
              "      <td>33.0</td>\n",
              "      <td>American Airlines Inc.</td>\n",
              "    </tr>\n",
              "    <tr>\n",
              "      <th>3</th>\n",
              "      <td>-18.0</td>\n",
              "      <td>JetBlue Airways</td>\n",
              "    </tr>\n",
              "    <tr>\n",
              "      <th>4</th>\n",
              "      <td>-25.0</td>\n",
              "      <td>Delta Air Lines Inc.</td>\n",
              "    </tr>\n",
              "    <tr>\n",
              "      <th>5</th>\n",
              "      <td>12.0</td>\n",
              "      <td>United Air Lines Inc.</td>\n",
              "    </tr>\n",
              "    <tr>\n",
              "      <th>6</th>\n",
              "      <td>19.0</td>\n",
              "      <td>JetBlue Airways</td>\n",
              "    </tr>\n",
              "    <tr>\n",
              "      <th>7</th>\n",
              "      <td>-14.0</td>\n",
              "      <td>ExpressJet Airlines Inc.</td>\n",
              "    </tr>\n",
              "    <tr>\n",
              "      <th>8</th>\n",
              "      <td>-8.0</td>\n",
              "      <td>JetBlue Airways</td>\n",
              "    </tr>\n",
              "    <tr>\n",
              "      <th>9</th>\n",
              "      <td>8.0</td>\n",
              "      <td>American Airlines Inc.</td>\n",
              "    </tr>\n",
              "  </tbody>\n",
              "</table>\n",
              "</div>"
            ],
            "text/plain": [
              "   arr_delay                      name\n",
              "0       11.0     United Air Lines Inc.\n",
              "1       20.0     United Air Lines Inc.\n",
              "2       33.0    American Airlines Inc.\n",
              "3      -18.0           JetBlue Airways\n",
              "4      -25.0      Delta Air Lines Inc.\n",
              "5       12.0     United Air Lines Inc.\n",
              "6       19.0           JetBlue Airways\n",
              "7      -14.0  ExpressJet Airlines Inc.\n",
              "8       -8.0           JetBlue Airways\n",
              "9        8.0    American Airlines Inc."
            ]
          },
          "metadata": {
            "tags": []
          },
          "execution_count": 10
        }
      ]
    },
    {
      "metadata": {
        "id": "N0JB9sjRpeWt",
        "colab_type": "code",
        "outputId": "8834b469-dbcd-4a1f-cc89-272be5d084ba",
        "colab": {
          "base_uri": "https://localhost:8080/",
          "height": 34
        }
      },
      "cell_type": "code",
      "source": [
        "sample = df.arr_delay.sample(n=1000, random_state = 1)\n",
        "sample.mean()"
      ],
      "execution_count": 0,
      "outputs": [
        {
          "output_type": "execute_result",
          "data": {
            "text/plain": [
              "1.809"
            ]
          },
          "metadata": {
            "tags": []
          },
          "execution_count": 11
        }
      ]
    },
    {
      "metadata": {
        "id": "iyXNR2mKtIwi",
        "colab_type": "code",
        "colab": {}
      },
      "cell_type": "code",
      "source": [
        "samples_mean = []\n",
        "samples_std = []\n",
        "j = 0\n",
        "itr = 0\n",
        "while itr < 100:\n",
        "  j += 1\n",
        "  sample = df.arr_delay.sample(n=1000, random_state=j)\n",
        "  sample_mean = sample.mean()\n",
        "  sample_std = sample.std()\n",
        "  samples_mean.append(sample_mean)\n",
        "  samples_std.append(sample_std)\n",
        "  itr += 1"
      ],
      "execution_count": 0,
      "outputs": []
    },
    {
      "metadata": {
        "id": "_KQx_K_FzAaP",
        "colab_type": "code",
        "outputId": "ee5f4a47-04fa-4901-ee4c-b16e522734ec",
        "colab": {
          "base_uri": "https://localhost:8080/",
          "height": 71
        }
      },
      "cell_type": "code",
      "source": [
        "print(samples_mean[:10])\n",
        "print(samples_std[:10])"
      ],
      "execution_count": 0,
      "outputs": [
        {
          "output_type": "stream",
          "text": [
            "[1.809, 0.402, 2.965, 2.336, 0.605, 2.78, 2.246, 0.909, 0.302, 1.083]\n",
            "[28.298893023338316, 29.211431045118324, 31.3176718734259, 29.360230365702645, 28.06700432414784, 29.852148176483887, 29.04729297592513, 28.966908720137866, 28.301692207035636, 26.78614583340813]\n"
          ],
          "name": "stdout"
        }
      ]
    },
    {
      "metadata": {
        "id": "_4aKygs_zXrq",
        "colab_type": "code",
        "outputId": "0d999ee1-c91f-41ae-aa6b-5a456a1ff0ad",
        "colab": {
          "base_uri": "https://localhost:8080/",
          "height": 398
        }
      },
      "cell_type": "code",
      "source": [
        "# Graph with 100 examples of 1000 sample size is somewhat normal but not quite there yet\n",
        "sample100 = sns.distplot(samples_mean,kde=True)"
      ],
      "execution_count": 0,
      "outputs": [
        {
          "output_type": "stream",
          "text": [
            "/usr/local/lib/python3.6/dist-packages/matplotlib/axes/_axes.py:6521: MatplotlibDeprecationWarning: \n",
            "The 'normed' kwarg was deprecated in Matplotlib 2.1 and will be removed in 3.1. Use 'density' instead.\n",
            "  alternative=\"'density'\", removal=\"3.1\")\n"
          ],
          "name": "stderr"
        },
        {
          "output_type": "display_data",
          "data": {
            "image/png": "[encoded data removed]",
            "text/plain": [
              "<Figure size 576x396 with 1 Axes>"
            ]
          },
          "metadata": {
            "tags": []
          }
        }
      ]
    },
    {
      "metadata": {
        "id": "osMRB6lf0XWi",
        "colab_type": "code",
        "colab": {}
      },
      "cell_type": "code",
      "source": [
        "\n",
        "# No. of examples 10000\n",
        "# Sample size 1000\n",
        "samples2_mean = []\n",
        "samples2_std = []\n",
        "j2 = 0\n",
        "itr2 = 0\n",
        "while itr2 < 10000:\n",
        "  j2 += 1\n",
        "  sample = df.arr_delay.sample(n=1000, random_state=j2)\n",
        "  sample_mean = sample.mean()\n",
        "  sample_std = sample.std()\n",
        "  samples2_mean.append(sample_mean)\n",
        "  samples2_std.append(sample_std)\n",
        "  itr2 += 1"
      ],
      "execution_count": 0,
      "outputs": []
    },
    {
      "metadata": {
        "id": "-GN9Z3Q61dBQ",
        "colab_type": "code",
        "outputId": "cc406094-254c-412c-f7d7-0c0b3fe18320",
        "colab": {
          "base_uri": "https://localhost:8080/",
          "height": 398
        }
      },
      "cell_type": "code",
      "source": [
        "# Now that is a normal distribution\n",
        "sample10000 = sns.distplot(samples2_mean,kde=True)"
      ],
      "execution_count": 0,
      "outputs": [
        {
          "output_type": "stream",
          "text": [
            "/usr/local/lib/python3.6/dist-packages/matplotlib/axes/_axes.py:6521: MatplotlibDeprecationWarning: \n",
            "The 'normed' kwarg was deprecated in Matplotlib 2.1 and will be removed in 3.1. Use 'density' instead.\n",
            "  alternative=\"'density'\", removal=\"3.1\")\n"
          ],
          "name": "stderr"
        },
        {
          "output_type": "display_data",
          "data": {
            "image/png": "[encoded data removed]",
            "text/plain": [
              "<Figure size 576x396 with 1 Axes>"
            ]
          },
          "metadata": {
            "tags": []
          }
        }
      ]
    },
    {
      "metadata": {
        "id": "yCbKdXnW19a3",
        "colab_type": "code",
        "outputId": "a0f49380-4173-4f24-f1a8-32a108d22314",
        "colab": {
          "base_uri": "https://localhost:8080/",
          "height": 68
        }
      },
      "cell_type": "code",
      "source": [
        "#The Central Limit Theorem (CLT) is a statistical theory states that given a sufficiently large \n",
        "#sample size from a population with a finite level of variance, the mean of all \n",
        "#samples from the same population will be approximately equal to the mean of the population.\n",
        "print(\"Mean of 10000 random samples = \",mean(samples2_mean))\n",
        "print(\"Entire population mean = \",df.arr_delay.mean())\n",
        "print(\"Means are approximately equal\")"
      ],
      "execution_count": 43,
      "outputs": [
        {
          "output_type": "stream",
          "text": [
            "Mean of 10000 random samples =  1.3033595\n",
            "Entire population mean =  1.2971432896160044\n",
            "Means are approximately equal\n"
          ],
          "name": "stdout"
        }
      ]
    },
    {
      "metadata": {
        "id": "gF-ToI__3n8-",
        "colab_type": "code",
        "colab": {}
      },
      "cell_type": "code",
      "source": [
        "# Larger the sample size the closer would be the sample's mean to the populations mean as proved above\n",
        "# Increase in sample size leads to smaller spread in sampling distribution"
      ],
      "execution_count": 0,
      "outputs": []
    }
  ]
}